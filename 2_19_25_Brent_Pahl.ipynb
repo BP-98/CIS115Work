{
  "nbformat": 4,
  "nbformat_minor": 0,
  "metadata": {
    "colab": {
      "provenance": []
    },
    "kernelspec": {
      "name": "python3",
      "display_name": "Python 3"
    },
    "language_info": {
      "name": "python"
    }
  },
  "cells": [
    {
      "cell_type": "code",
      "execution_count": 34,
      "metadata": {
        "colab": {
          "base_uri": "https://localhost:8080/"
        },
        "id": "eRnrX3hy9Kui",
        "outputId": "9ad74068-d844-407c-9e98-9b14be8f9243"
      },
      "outputs": [
        {
          "output_type": "stream",
          "name": "stdout",
          "text": [
            "1\n",
            "1¿\n",
            "1¿¿\n",
            "1¿¿¿\n",
            "1¿¿¿¿\n",
            "1¿¿¿¿¿\n",
            "1¿¿¿¿\n",
            "1¿¿¿\n",
            "1¿¿\n",
            "1¿\n",
            "1\n",
            "\n"
          ]
        }
      ],
      "source": [
        "triangle=11\n",
        "aux=0\n",
        "row='1'\n",
        "print(row)\n",
        "while(aux<=triangle):\n",
        "  if(aux<triangle/2):\n",
        "    while(len(row)<=triangle/2):\n",
        "      row=row+'¿'\n",
        "      print(row)\n",
        "  elif(aux>triangle/2):\n",
        "    while(len(listRow)>0):\n",
        "      listRow=list(row)\n",
        "      listRow.pop(len(row)-1)\n",
        "      row=''.join(listRow)\n",
        "      print(row)\n",
        "  aux=aux+1"
      ]
    },
    {
      "cell_type": "code",
      "source": [
        "triangle=11\n",
        "aux=0\n",
        "row='1'\n",
        "print(row)\n",
        "while(aux<=triangle):\n",
        "  if(aux<triangle/2):\n",
        "    while(len(row)<=triangle/2):\n",
        "      row=row+'1'\n",
        "      print(row)\n",
        "  elif(aux>triangle/2):\n",
        "    while(len(row)<=triangle/2):\n",
        "      while(len(row)):\n",
        "        print(1)\n",
        "  aux=aux+1"
      ],
      "metadata": {
        "colab": {
          "base_uri": "https://localhost:8080/",
          "height": 234
        },
        "id": "drhyxMLoHX_6",
        "outputId": "c1a1922c-b3d4-4ab1-80cd-5ecb42323756"
      },
      "execution_count": 45,
      "outputs": [
        {
          "output_type": "stream",
          "name": "stdout",
          "text": [
            "1\n"
          ]
        },
        {
          "output_type": "error",
          "ename": "TypeError",
          "evalue": "unsupported operand type(s) for -: 'str' and 'str'",
          "traceback": [
            "\u001b[0;31m---------------------------------------------------------------------------\u001b[0m",
            "\u001b[0;31mTypeError\u001b[0m                                 Traceback (most recent call last)",
            "\u001b[0;32m<ipython-input-45-e377938f7a93>\u001b[0m in \u001b[0;36m<cell line: 0>\u001b[0;34m()\u001b[0m\n\u001b[1;32m      6\u001b[0m   \u001b[0;32mif\u001b[0m\u001b[0;34m(\u001b[0m\u001b[0maux\u001b[0m\u001b[0;34m<\u001b[0m\u001b[0mtriangle\u001b[0m\u001b[0;34m/\u001b[0m\u001b[0;36m2\u001b[0m\u001b[0;34m)\u001b[0m\u001b[0;34m:\u001b[0m\u001b[0;34m\u001b[0m\u001b[0;34m\u001b[0m\u001b[0m\n\u001b[1;32m      7\u001b[0m     \u001b[0;32mwhile\u001b[0m\u001b[0;34m(\u001b[0m\u001b[0mlen\u001b[0m\u001b[0;34m(\u001b[0m\u001b[0mrow\u001b[0m\u001b[0;34m)\u001b[0m\u001b[0;34m<=\u001b[0m\u001b[0mtriangle\u001b[0m\u001b[0;34m/\u001b[0m\u001b[0;36m2\u001b[0m\u001b[0;34m)\u001b[0m\u001b[0;34m:\u001b[0m\u001b[0;34m\u001b[0m\u001b[0;34m\u001b[0m\u001b[0m\n\u001b[0;32m----> 8\u001b[0;31m       \u001b[0mrow\u001b[0m\u001b[0;34m=\u001b[0m\u001b[0mrow\u001b[0m\u001b[0;34m-\u001b[0m\u001b[0;34m'1'\u001b[0m\u001b[0;34m\u001b[0m\u001b[0;34m\u001b[0m\u001b[0m\n\u001b[0m\u001b[1;32m      9\u001b[0m       \u001b[0mprint\u001b[0m\u001b[0;34m(\u001b[0m\u001b[0mrow\u001b[0m\u001b[0;34m)\u001b[0m\u001b[0;34m\u001b[0m\u001b[0;34m\u001b[0m\u001b[0m\n\u001b[1;32m     10\u001b[0m   \u001b[0;32melif\u001b[0m\u001b[0;34m(\u001b[0m\u001b[0maux\u001b[0m\u001b[0;34m>\u001b[0m\u001b[0mtriangle\u001b[0m\u001b[0;34m/\u001b[0m\u001b[0;36m2\u001b[0m\u001b[0;34m)\u001b[0m\u001b[0;34m:\u001b[0m\u001b[0;34m\u001b[0m\u001b[0;34m\u001b[0m\u001b[0m\n",
            "\u001b[0;31mTypeError\u001b[0m: unsupported operand type(s) for -: 'str' and 'str'"
          ]
        }
      ]
    },
    {
      "cell_type": "code",
      "source": [],
      "metadata": {
        "id": "Z0c3wccUJmCV"
      },
      "execution_count": null,
      "outputs": []
    }
  ]
}