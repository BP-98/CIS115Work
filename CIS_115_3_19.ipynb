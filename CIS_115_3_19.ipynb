{
  "nbformat": 4,
  "nbformat_minor": 0,
  "metadata": {
    "colab": {
      "provenance": []
    },
    "kernelspec": {
      "name": "python3",
      "display_name": "Python 3"
    },
    "language_info": {
      "name": "python"
    }
  },
  "cells": [
    {
      "cell_type": "code",
      "execution_count": null,
      "metadata": {
        "id": "zfz61h4mzctd"
      },
      "outputs": [],
      "source": [
        "#Trafic Light\n",
        "light=1\n",
        "while True:\n",
        "  #Grun\n",
        "  if (light==1):\n",
        "    print('Green light')\n",
        "    input()\n",
        "    light=light+1\n",
        "  #Gelb\n",
        "  elif (light==2):\n",
        "    print('Yellow Light')\n",
        "    input()\n",
        "    light=light+1\n",
        "  #Rot\n",
        "  elif (light==3):\n",
        "    print('Red Light')\n",
        "    input()\n",
        "    light=1"
      ]
    },
    {
      "cell_type": "code",
      "source": [
        "#Temprature Average\n",
        "week=['Monday','Tuesday','Wednesday','Thursday','Friday','Saturday','Sunday']\n",
        "avgTemp=0\n",
        "for day in week:\n",
        "  temp=int(input('Please Type The Temprature for '+day))\n",
        "  avgTemp=avgTemp+temp\n",
        "  avgTemp=avgTemp/7\n",
        "  while True:\n",
        "    temp=int(input('Plase type a temprature to compare'))\n",
        "    if(avgtemp>temp):\n",
        "      print('temp is lower than the average')\n",
        "    else:\n",
        "      print('temp is higher than the average')"
      ],
      "metadata": {
        "id": "FmLDijKTz3pG"
      },
      "execution_count": null,
      "outputs": []
    },
    {
      "cell_type": "code",
      "source": [
        "#Calories\n",
        "dayCalCount=int(input('What is your Calorie Goal'))\n",
        "while True:\n",
        "  workout=True\n",
        "  totalCaloriesBurned=0\n",
        "  while workout:\n",
        "    caloriesBurned=int(input('How many calories did you burn while exercising? '))\n",
        "    totalCaloriesBurned=totalCaloriesBurned+caloriesBurned\n",
        "    contWorkOut=input('Did you do another exercise? Y/N')\n",
        "    if (contWorkOut==Y or contWorkOut==y):\n",
        "      print('Okay Add it up')\n",
        "    elif(contWorkOut==N or contWorkOut==n):\n",
        "      workout=False\n",
        "  if(totalCaloriesBurned>=dayCalCount):\n",
        "    print('Congrats on achieving your goal')\n",
        "  else:\n",
        "    print('You failed :[')"
      ],
      "metadata": {
        "id": "W_DpBvf7z3tJ"
      },
      "execution_count": null,
      "outputs": []
    },
    {
      "cell_type": "code",
      "source": [
        "from contextlib import ContextDecorator\n",
        "#Grades\n",
        "studentsAmount=int(input('How many students are you grading for? '))\n",
        "for student in range(studentsAmount):\n",
        "  moreGrades=True\n",
        "  grades=0\n",
        "  count=0\n",
        "  while moreGrades:\n",
        "    grade=int(input('What is the grade? '))\n",
        "    count=count+1\n",
        "    grades=grades+grade\n",
        "    contDec=input('Do you have more grades? Y/N')\n",
        "    if(contDec=='N'):\n",
        "      moreGrades=False\n",
        "      print('The average Grade is ',grades/count)"
      ],
      "metadata": {
        "id": "PtIz4Run0F6g"
      },
      "execution_count": null,
      "outputs": []
    }
  ]
}