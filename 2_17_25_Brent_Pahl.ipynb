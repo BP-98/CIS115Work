{
  "nbformat": 4,
  "nbformat_minor": 0,
  "metadata": {
    "colab": {
      "provenance": []
    },
    "kernelspec": {
      "name": "python3",
      "display_name": "Python 3"
    },
    "language_info": {
      "name": "python"
    }
  },
  "cells": [
    {
      "cell_type": "code",
      "execution_count": null,
      "metadata": {
        "colab": {
          "base_uri": "https://localhost:8080/"
        },
        "id": "GQyQYhm-gT7p",
        "outputId": "20bcf2a1-8afe-4edc-a97a-ff2eeba21ce6"
      },
      "outputs": [
        {
          "output_type": "stream",
          "name": "stdout",
          "text": [
            "you total is  4.0\n",
            "your module is  0\n"
          ]
        }
      ],
      "source": [
        "##module = % it divides intergers and spits out the remaining intergers\n",
        "x=8\n",
        "y=2\n",
        "total=x/y\n",
        "module=x%y\n",
        "print(\"you total is \",total)\n",
        "print(\"your module is \",module)"
      ]
    },
    {
      "cell_type": "code",
      "source": [
        "number=int(input('Please input a number to evaluate '))\n",
        "if(number%2==0):\n",
        "##checks if a number is even by seeing if it is divisible by 2\n",
        "  print(\"Your number is Even\")\n",
        "else:\n",
        "  print(\"Your number is Odd\")"
      ],
      "metadata": {
        "colab": {
          "base_uri": "https://localhost:8080/"
        },
        "id": "calRgWILih8q",
        "outputId": "8056249f-c18a-4cbd-c0de-5b9a6959edca"
      },
      "execution_count": 5,
      "outputs": [
        {
          "output_type": "stream",
          "name": "stdout",
          "text": [
            "Please input a number to evaluate 9\n",
            "Your number is Odd\n"
          ]
        }
      ]
    },
    {
      "cell_type": "code",
      "source": [
        "year=int(input(\"Please Type a year to evaluate. Format yyyy\"))\n",
        "if(year<=0):\n",
        "  print(\"Please input a valid year\")\n",
        "else:\n",
        "  if(year%4==0):\n",
        "    if(year%100==0):\n",
        "      if(year%400==0):\n",
        "       print('its a leap year ')\n",
        "      else:\n",
        "        print('It is not a leap year')\n",
        "    else:\n",
        "      print('Its a leap year')\n",
        "  else:\n",
        "    print('It is not a leap year')\n"
      ],
      "metadata": {
        "id": "03wCwvBVjZzt"
      },
      "execution_count": null,
      "outputs": []
    },
    {
      "cell_type": "markdown",
      "source": [
        "Range A: 90 - 100\n",
        "Range B: 80 - 89\n",
        "Range C: 70 - 79\n",
        "Range D: 60 - 69\n",
        "Range F: 0 - 50\n"
      ],
      "metadata": {
        "id": "wOjCwtggotA4"
      }
    },
    {
      "cell_type": "code",
      "source": [
        "grade=int(input('please type a number in the range of 0 - 100 for grading: '))\n",
        "if(grade>=90 and grade<=100): #A\n",
        "  print('Grade is A')\n",
        "elif(grade>=80 and grade <=89): #B\n",
        "  print('Grade is B')\n",
        "elif(grade>=70 and grade <=79): #C\n",
        "  print('Grade is C')\n",
        "elif(grade>=60 and grade <=69): #D\n",
        "  print('Grade is D')\n",
        "elif(grade<=0 and grade<60) #F\n",
        "  print('Grade is F')\n",
        "else:\n",
        "  print('Please Insert a Positive integer Between 0 - 100')\n"
      ],
      "metadata": {
        "id": "klpuUvIjoUyZ"
      },
      "execution_count": null,
      "outputs": []
    },
    {
      "cell_type": "code",
      "source": [
        "#While\n",
        "flag=False\n",
        "while(flag==False):\n",
        "  opinion=input('Do you like coding class? y/n ')\n",
        "  if(opinion=='y' or opinion=='Y'):\n",
        "    flag=True\n",
        "  elif:(opinion=='n' or opinion=='N'):\n",
        "    print('Are you Sure? ')"
      ],
      "metadata": {
        "id": "OigZm0ohvSRq"
      },
      "execution_count": null,
      "outputs": []
    },
    {
      "cell_type": "code",
      "source": [
        "pswrd=input('Please type ypur Password ')\n",
        "ConstantPassword='SuperSecurePassword'\n",
        "while(pswrd!=ConstantPassword):\n",
        "  pswrd=input('Please type a valid Password ')\n",
        "print('Welcome')"
      ],
      "metadata": {
        "colab": {
          "base_uri": "https://localhost:8080/"
        },
        "id": "DvrytcOQw1vs",
        "outputId": "3aaec220-588c-4bf2-b3f5-af4f6ed4de56"
      },
      "execution_count": 6,
      "outputs": [
        {
          "output_type": "stream",
          "name": "stdout",
          "text": [
            "Please type ypur Password potato\n",
            "Please type a valid Password SuperSecurePassword\n",
            "Welcome\n"
          ]
        }
      ]
    },
    {
      "cell_type": "code",
      "source": [
        "calcOption=0\n",
        "while(calcOption!=5):\n",
        "  print('Welcome user to your calcuator\\nPress 1. for addition \\nPress 2. for Subtraction \\nPress 5. to exit')\n",
        "  calcOption=int(input('Type Your perferred operation '))\n",
        "  if(calcOption==1):\n",
        "    print('You have chosen addition')\n",
        "    variableA=int(input('Type the first number to be added '))\n",
        "    variableB=int(input('Type the second number to be added '))\n",
        "    if(variableA>=0 and variableB>=0):\n",
        "      total=variableA+variableB\n",
        "      print('Your sum is',total,'\\n')\n",
        "    else:\n",
        "      print('One of or both of your numbers are negative')\n",
        "  elif(calcOption==2):\n",
        "    print('You have chosen subtraction')\n",
        "    variableA=int(input('Type the first number to be subtracted '))\n",
        "    variableB=int(input('Type the second number to be subtracted '))\n",
        "    if(variableA>=0 and variableB>=0):\n",
        "      if(variableA>=variableB):\n",
        "        total=variableA-variableB\n",
        "        print('The Diffrence is',total,'/n')\n",
        "      else:\n",
        "        print('Your total will be negative')\n",
        "    else:\n",
        "      print('One or Both of your numbers are negative')\n",
        "  elif(calcOption==5):\n",
        "    print('Exiting... Thank you for your time')\n",
        "  else:\n",
        "    print('Please Type a valid response')"
      ],
      "metadata": {
        "colab": {
          "base_uri": "https://localhost:8080/"
        },
        "id": "oi8bTg8_ylV2",
        "outputId": "d24be15b-bab0-4825-ab95-1e5da4900cfb"
      },
      "execution_count": 9,
      "outputs": [
        {
          "output_type": "stream",
          "name": "stdout",
          "text": [
            "Welcome user to your calcuator\n",
            "Press 1. for addition \n",
            "Press 2. for Subtraction \n",
            "Press 5. to exit\n",
            "Type Your perferred operation 1\n",
            "You have chosen addition\n",
            "Type the first number to be added 3\n",
            "Type the second number to be added 5\n",
            "Your sum is 8 \n",
            "\n",
            "Welcome user to your calcuator\n",
            "Press 1. for addition \n",
            "Press 2. for Subtraction \n",
            "Press 5. to exit\n",
            "Type Your perferred operation 5\n",
            "Exiting... Thank you for your time\n"
          ]
        }
      ]
    },
    {
      "cell_type": "markdown",
      "source": [
        "F(n)=F(n-1)+F(n-2)"
      ],
      "metadata": {
        "id": "fU3a3r2y3HI_"
      }
    },
    {
      "cell_type": "code",
      "source": [
        "count=0\n",
        "length=int(input('Please Insert the number of cycles you want counted in the fibonacci sequence .'))\n",
        "aux=0\n",
        "while(count<length):\n",
        "  aux=(count-1)+(count-2)\n",
        "  print(aux)\n",
        "  print('count',count)\n",
        "  count=count+1\n"
      ],
      "metadata": {
        "colab": {
          "base_uri": "https://localhost:8080/"
        },
        "id": "CTHp8vbk0vQW",
        "outputId": "8dbefa07-27df-4366-b3a0-8acf1649ab0e"
      },
      "execution_count": 12,
      "outputs": [
        {
          "output_type": "stream",
          "name": "stdout",
          "text": [
            "Please Insert the number of cycles you want counted in the fibonacci sequence .5\n",
            "-3\n",
            "count 0\n",
            "-1\n",
            "count 1\n",
            "1\n",
            "count 2\n",
            "3\n",
            "count 3\n",
            "5\n",
            "count 4\n"
          ]
        }
      ]
    },
    {
      "cell_type": "code",
      "source": [
        "count=0\n",
        "cycles=int(input('Count is '))\n",
        "f1=0\n",
        "f2=1\n",
        "mem=0\n",
        "while(count<cycles):\n",
        "  mem=f2\n",
        "  f2=f1+f2\n",
        "  f1=mem\n",
        "  print(f2)\n",
        "  count=count+1\n"
      ],
      "metadata": {
        "colab": {
          "base_uri": "https://localhost:8080/"
        },
        "id": "7nBDPikA4VKC",
        "outputId": "867f7e2c-dfc2-4176-fab1-03f3802c59dd"
      },
      "execution_count": 3,
      "outputs": [
        {
          "output_type": "stream",
          "name": "stdout",
          "text": [
            "Count is 7\n",
            "1\n",
            "2\n",
            "3\n",
            "5\n",
            "8\n",
            "13\n",
            "21\n"
          ]
        }
      ]
    }
  ]
}