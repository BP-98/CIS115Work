{
  "nbformat": 4,
  "nbformat_minor": 0,
  "metadata": {
    "colab": {
      "provenance": []
    },
    "kernelspec": {
      "name": "python3",
      "display_name": "Python 3"
    },
    "language_info": {
      "name": "python"
    }
  },
  "cells": [
    {
      "cell_type": "code",
      "execution_count": 4,
      "metadata": {
        "colab": {
          "base_uri": "https://localhost:8080/",
          "height": 0
        },
        "id": "vZU6sepT01Kk",
        "outputId": "a5a1c8bc-0a19-4b1a-aebb-e51807117146"
      },
      "outputs": [
        {
          "output_type": "stream",
          "name": "stdout",
          "text": [
            "What is Will Doing? Is he Watching a movie? (WAM), or is he studying (S) S\n",
            "Healthy food!\n"
          ]
        }
      ],
      "source": [
        "#Will wants healthy food while studying, and junk whilst watching a movie\n",
        "willWants=input('What is Will Doing? Is he Watching a movie? (WAM), or is he studying (S) ')\n",
        "if(willWants=='WAM' or willWants=='S'):\n",
        "  if(willWants=='WAM'):\n",
        "   print('Junk Food!')\n",
        "  else:\n",
        "    print('Healthy food!')\n",
        "else:\n",
        "  print('Please type Either WAM or S')"
      ]
    },
    {
      "cell_type": "code",
      "source": [
        "willWants=input('What is Will Doing? Is he Watching a movie? (WAM), or is he studying (S) ')\n",
        "if(willWants=='WAM'):\n",
        "  print('Junk Food!')\n",
        "elif(willWants=='S'):\n",
        "  print('Healthy Food!')\n",
        "else:\n",
        "  print('Please type Either WAM or S')"
      ],
      "metadata": {
        "id": "Ug-IgOD67lOA"
      },
      "execution_count": null,
      "outputs": []
    },
    {
      "cell_type": "code",
      "source": [
        "springBrkBoolean=False\n",
        "while(springBrkBoolean==False):\n",
        "  areWeSpringBrk=input('Is it Spring Break? (Y/N) ')\n",
        "  if(areWeSpringBrk=='Y'):\n",
        "    springBrkBoolean=True\n",
        "  elif(areWeSpringBrk=='N'):\n",
        "    print('aww dangit')\n",
        "  else:\n",
        "    print('Please Write Y or N')\n",
        "print('yaay It is Spring Break')"
      ],
      "metadata": {
        "colab": {
          "base_uri": "https://localhost:8080/",
          "height": 0
        },
        "id": "BT6mYUpD9mWc",
        "outputId": "512ebead-6930-4502-a422-1df6649cdcbb"
      },
      "execution_count": 9,
      "outputs": [
        {
          "output_type": "stream",
          "name": "stdout",
          "text": [
            "Is it Spring Break? (Y/N) n\n",
            "Please Write Y or N\n",
            "Is it Spring Break? (Y/N) pleas\n",
            "Please Write Y or N\n",
            "Is it Spring Break? (Y/N) i wan borger\n",
            "Please Write Y or N\n",
            "Is it Spring Break? (Y/N) borgor\n",
            "Please Write Y or N\n",
            "Is it Spring Break? (Y/N) Y\n",
            "yaay It is Spring Break\n"
          ]
        }
      ]
    },
    {
      "cell_type": "code",
      "source": [
        "KaboomBool=False\n",
        "while(KaboomBool==False):\n",
        "  distanceToWall=int(input('What is the distance the wall? '))\n",
        "  if(distanceToWall>=0):\n",
        "    if(distanceToWall==1):\n",
        "      print('1 Foot to the front')\n",
        "    elif(distanceToWall==0):\n",
        "      KaboomBool=True\n",
        "    elif(distanceToWall==2):\n",
        "      print('Stopy nowy')\n",
        "      KaboomBool=True\n",
        "    else:\n",
        "      print('Keep Drivin you filthy animal')\n",
        "  else:\n",
        "    KaboomBool=True\n",
        "    print('Is ded. No big suprise')\n"
      ],
      "metadata": {
        "colab": {
          "base_uri": "https://localhost:8080/"
        },
        "id": "gaD6hXTrEsBC",
        "outputId": "d6c472f1-e2c0-44b0-b070-b7f17fc67bba"
      },
      "execution_count": 18,
      "outputs": [
        {
          "output_type": "stream",
          "name": "stdout",
          "text": [
            "What is the distance the wall? 5\n",
            "Keep Drivin you filthy animal\n",
            "What is the distance the wall? 7\n",
            "Keep Drivin you filthy animal\n",
            "What is the distance the wall? 1\n",
            "1 Foot to the front\n",
            "What is the distance the wall? 2\n",
            "Stopy nowy\n"
          ]
        }
      ]
    },
    {
      "cell_type": "code",
      "source": [],
      "metadata": {
        "id": "-6AWOmIFIczc"
      },
      "execution_count": null,
      "outputs": []
    }
  ]
}