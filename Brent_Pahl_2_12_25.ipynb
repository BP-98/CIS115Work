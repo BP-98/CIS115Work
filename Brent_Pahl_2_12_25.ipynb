{
  "nbformat": 4,
  "nbformat_minor": 0,
  "metadata": {
    "colab": {
      "provenance": []
    },
    "kernelspec": {
      "name": "python3",
      "display_name": "Python 3"
    },
    "language_info": {
      "name": "python"
    }
  },
  "cells": [
    {
      "cell_type": "code",
      "execution_count": null,
      "metadata": {
        "id": "C5pF3exqxLT0"
      },
      "outputs": [],
      "source": [
        "option=int(input('Do you want to call a Hero or a Villain? Type 1 for Hero, 2 for Villain '))\n",
        "if(option==1):\n",
        "  print('You are calling a Hero...')\n",
        "  print('Which Hero are you trying to contact?')\n",
        "  print('1. IronMan \\n2. Spider-man \\n3. Superman ')\n",
        "  option=int(input('Please type the corresponding number only '))\n",
        "  if(option==1):\n",
        "    print('You are calling IronMan...')\n",
        "  elif(option==2):\n",
        "    print('You are calling Spider-man...')\n",
        "  elif(option==3):\n",
        "    print('You are calling Superman...')\n",
        "  else:\n",
        "    print('Please type a valid response')\n",
        "elif(option==2):\n",
        "  print('You are calling a Villain...')\n",
        "  print('Which Villain are you trying to contact?')\n",
        "  print('1. Venom \\n2. Sandman \\n3. Megamind ')\n",
        "  option=int(input('Please type the corresponding number only '))\n",
        "  if(option==1):\n",
        "    print('You are calling Venom...')\n",
        "  elif(option==2):\n",
        "    print('You are calling Sandman...')\n",
        "  elif(option==3):\n",
        "    print('You are calling Megamind...')\n",
        "  else:\n",
        "    print('Please type a valid response')\n",
        "else:\n",
        "  print('Please type a valid response')"
      ]
    },
    {
      "cell_type": "markdown",
      "source": [
        "Calculator"
      ],
      "metadata": {
        "id": "EBhiHv6zBdi7"
      }
    },
    {
      "cell_type": "code",
      "source": [
        "print('Welcome user to your calcuator\\nPress 1. for addition \\nPress 2. for Subtraction')\n",
        "calcOption=int(input('Type Your perferred operation '))\n",
        "if(calcOption==1):\n",
        "  print('You have chosen addition')\n",
        "  variableA=int(input('Type the first number to be added '))\n",
        "  variableB=int(input('Type the second number to be added '))\n",
        "  if(variableA>=0 and variableB>=0):\n",
        "    total=variableA+variableB\n",
        "    print('Your sum is',total)\n",
        "  else:\n",
        "    print('One of or both of your numbers are negative')\n",
        "elif(calcOption==2):\n",
        "  print('You have chosen subtraction')\n",
        "  variableA=int(input('Type the first number to be subtracted '))\n",
        "  variableB=int(input('Type the second number to be subtracted '))\n",
        "  if(variableA>=0 and variableB>=0):\n",
        "    if(variableA>V=variableB):\n",
        "      total=variableA-variableB\n",
        "      print('The Diffrence is',total)\n",
        "    else:\n",
        "      print('Your total will be negative')\n",
        "  else:\n",
        "    print('One or Both of your numbers are negative')\n",
        "else:\n",
        "  print('Please Type a valid response')\n",
        ""
      ],
      "metadata": {
        "colab": {
          "base_uri": "https://localhost:8080/"
        },
        "id": "6jDakoQ9BfWZ",
        "outputId": "447d5009-9742-4fb9-d9b9-ccd4615d2869"
      },
      "execution_count": 15,
      "outputs": [
        {
          "output_type": "stream",
          "name": "stdout",
          "text": [
            "Welcome user to your calcuator\n",
            "Press 1. for addition \n",
            "Press 2. for Subtraction\n",
            "Type Your perferred operation 1\n",
            "You have chosen addition\n",
            "Type the first number to be added -4\n",
            "Type the second number to be added 5\n",
            "1\n"
          ]
        }
      ]
    }
  ]
}