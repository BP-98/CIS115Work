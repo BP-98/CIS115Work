{
  "nbformat": 4,
  "nbformat_minor": 0,
  "metadata": {
    "colab": {
      "provenance": []
    },
    "kernelspec": {
      "name": "python3",
      "display_name": "Python 3"
    },
    "language_info": {
      "name": "python"
    }
  },
  "cells": [
    {
      "cell_type": "code",
      "execution_count": 1,
      "metadata": {
        "id": "Xbu8YElki88r",
        "colab": {
          "base_uri": "https://localhost:8080/"
        },
        "outputId": "fe037319-1ce8-41a9-fd0c-6b5b50d3e6d2"
      },
      "outputs": [
        {
          "output_type": "execute_result",
          "data": {
            "text/plain": [
              "1"
            ]
          },
          "metadata": {},
          "execution_count": 1
        }
      ],
      "source": [
        "#String\n",
        "welcomeMessage='Welcome to CIS 115'\n",
        "#Intergers\n",
        "studentsInClass=32\n",
        "booksInLibrary=12345\n",
        "smallValue=-9765456\n"
      ]
    },
    {
      "cell_type": "code",
      "source": [
        "#A+B=C\n",
        "variableA=int(input('Please give me varible A '))\n",
        "variableB=52\n",
        "variableC=variableA+variableB\n",
        "print(variableC)"
      ],
      "metadata": {
        "colab": {
          "base_uri": "https://localhost:8080/"
        },
        "id": "DVSua5VZs-F3",
        "outputId": "3b1d35e6-7da4-4f55-eb2d-1ef4514db9b4"
      },
      "execution_count": 3,
      "outputs": [
        {
          "output_type": "stream",
          "name": "stdout",
          "text": [
            "72\n"
          ]
        }
      ]
    },
    {
      "cell_type": "code",
      "source": [
        "nameOfStudent=input('What is your name? ')\n",
        "homeworkForTdy=' You have to code a A+B=C'\n",
        "print(nameOfStudent+homeworkForTdy)"
      ],
      "metadata": {
        "colab": {
          "base_uri": "https://localhost:8080/"
        },
        "id": "a5kzsvUIxD6l",
        "outputId": "7c30ffbc-f844-4c80-d5e9-39deaf84cfeb"
      },
      "execution_count": 4,
      "outputs": [
        {
          "output_type": "stream",
          "name": "stdout",
          "text": [
            "What is your name? Potato\n",
            "PotatoYou have to code a A+B=C\n"
          ]
        }
      ]
    },
    {
      "cell_type": "code",
      "source": [
        "#and, or, !\n",
        "print(True and True)\n",
        "print(True and False)\n",
        "print(False and True)\n",
        "print(True and True and False)\n",
        "print(False and False)"
      ],
      "metadata": {
        "colab": {
          "base_uri": "https://localhost:8080/"
        },
        "id": "O3exaJZi1A5o",
        "outputId": "d20b8099-30ba-44be-e2ab-32229a58ad36"
      },
      "execution_count": 8,
      "outputs": [
        {
          "output_type": "stream",
          "name": "stdout",
          "text": [
            "True\n",
            "False\n",
            "False\n",
            "False\n",
            "False\n"
          ]
        }
      ]
    },
    {
      "cell_type": "code",
      "source": [
        "print(True or True)\n",
        "print(True or False)\n",
        "print(False or True)\n",
        "print(True or True or False)\n",
        "print(False or False)"
      ],
      "metadata": {
        "colab": {
          "base_uri": "https://localhost:8080/"
        },
        "id": "wrDwUU_J2P3U",
        "outputId": "61da32fb-5470-45c8-fe91-8908581ea6ee"
      },
      "execution_count": 10,
      "outputs": [
        {
          "output_type": "stream",
          "name": "stdout",
          "text": [
            "True\n",
            "True\n",
            "True\n",
            "True\n",
            "False\n"
          ]
        }
      ]
    },
    {
      "cell_type": "code",
      "source": [
        "print(not False)\n",
        "print(not True)\n",
        "print(not True and not False)"
      ],
      "metadata": {
        "colab": {
          "base_uri": "https://localhost:8080/"
        },
        "id": "4B0O4Mku3HfJ",
        "outputId": "49fe28c8-5356-40a5-9c70-4319201194b0"
      },
      "execution_count": 13,
      "outputs": [
        {
          "output_type": "stream",
          "name": "stdout",
          "text": [
            "True\n",
            "False\n",
            "False\n"
          ]
        }
      ]
    },
    {
      "cell_type": "code",
      "source": [
        "goToClass=True\n",
        "haveATest=True\n",
        "studyForTest=False\n",
        "print('It is',(goToClass or studyForTest) and haveATest,'that You will pass the Test')"
      ],
      "metadata": {
        "colab": {
          "base_uri": "https://localhost:8080/"
        },
        "id": "YUtbnZMC3m8R",
        "outputId": "7f91e121-bef6-43ee-d487-bc2c11eaecb6"
      },
      "execution_count": 18,
      "outputs": [
        {
          "output_type": "stream",
          "name": "stdout",
          "text": [
            "It is True that You will pass the Test\n"
          ]
        }
      ]
    },
    {
      "cell_type": "code",
      "source": [
        "goToClass=True\n",
        "haveATest=False\n",
        "studyForTest=True\n",
        "print((goToClass or studyForTest) and haveATest)\n",
        "if((goToClass or studyForTest) and haveATest):\n",
        "  print('Great Job!')"
      ],
      "metadata": {
        "colab": {
          "base_uri": "https://localhost:8080/"
        },
        "id": "Msy0obpD6SYP",
        "outputId": "4804c729-a6ab-4520-c2d8-be3dd46f2b66"
      },
      "execution_count": 25,
      "outputs": [
        {
          "output_type": "stream",
          "name": "stdout",
          "text": [
            "False\n"
          ]
        }
      ]
    }
  ]
}
