{
  "nbformat": 4,
  "nbformat_minor": 0,
  "metadata": {
    "colab": {
      "provenance": []
    },
    "kernelspec": {
      "name": "python3",
      "display_name": "Python 3"
    },
    "language_info": {
      "name": "python"
    }
  },
  "cells": [
    {
      "cell_type": "code",
      "execution_count": null,
      "metadata": {
        "colab": {
          "base_uri": "https://localhost:8080/",
          "height": 108
        },
        "id": "yACfLs0JnGfV",
        "outputId": "2909234c-d33c-42dc-b3ac-98b7df0d6721"
      },
      "outputs": [
        {
          "output_type": "error",
          "ename": "SyntaxError",
          "evalue": "cannot assign to literal (<ipython-input-1-ecbec4170186>, line 1)",
          "traceback": [
            "\u001b[0;36m  File \u001b[0;32m\"<ipython-input-1-ecbec4170186>\"\u001b[0;36m, line \u001b[0;32m1\u001b[0m\n\u001b[0;31m    for(2):\u001b[0m\n\u001b[0m        ^\u001b[0m\n\u001b[0;31mSyntaxError\u001b[0m\u001b[0;31m:\u001b[0m cannot assign to literal\n"
          ]
        }
      ],
      "source": [
        "#for is a while that counts\n",
        "counter=0\n",
        "range"
      ]
    },
    {
      "cell_type": "code",
      "source": [
        "#range is basicly # through #\n",
        "print(range(9))\n",
        "for number in range(9):\n",
        "  print(number)"
      ],
      "metadata": {
        "colab": {
          "base_uri": "https://localhost:8080/"
        },
        "id": "pNZ3jQPpqI_7",
        "outputId": "6728d703-c955-4a49-865a-f9ac643b872c"
      },
      "execution_count": null,
      "outputs": [
        {
          "output_type": "stream",
          "name": "stdout",
          "text": [
            "range(0, 9)\n",
            "0\n",
            "1\n",
            "2\n",
            "3\n",
            "4\n",
            "5\n",
            "6\n",
            "7\n",
            "8\n"
          ]
        }
      ]
    },
    {
      "cell_type": "code",
      "source": [
        "name='Potato'\n",
        "for letter in name:\n",
        "  print(letter)"
      ],
      "metadata": {
        "colab": {
          "base_uri": "https://localhost:8080/"
        },
        "id": "m3LKUI_Arcec",
        "outputId": "af8ceed7-4d67-4fbd-f3f1-6a27787e58df"
      },
      "execution_count": 6,
      "outputs": [
        {
          "output_type": "stream",
          "name": "stdout",
          "text": [
            "P\n",
            "o\n",
            "t\n",
            "a\n",
            "t\n",
            "o\n"
          ]
        }
      ]
    },
    {
      "cell_type": "code",
      "source": [
        "shoppingCart=''\n",
        "for fruit in range(5):\n",
        "  saved=input('Type a Fruit ')\n",
        "  if fruit==0:\n",
        "    shoppingCart=saved\n",
        "  else:\n",
        "   shoppingCart=shoppingCart+', '+saved\n",
        "print(shoppingCart)"
      ],
      "metadata": {
        "colab": {
          "base_uri": "https://localhost:8080/"
        },
        "id": "psPig5S6sW_7",
        "outputId": "0d80d455-01b8-4cc9-9f35-2cc0294e3f36"
      },
      "execution_count": 9,
      "outputs": [
        {
          "output_type": "stream",
          "name": "stdout",
          "text": [
            "Type a Fruit Mango\n",
            "Type a Fruit Bango\n",
            "Type a Fruit Beargo\n",
            "Type a Fruit Fargo\n",
            "Type a Fruit Largo\n",
            "Mango,Bango,Beargo,Fargo,Largo\n"
          ]
        }
      ]
    },
    {
      "cell_type": "code",
      "source": [
        "iterations=int(input(\"Type the amount of numbers that wish to add \"))\n",
        "sum=0\n",
        "for number in range(iterations):\n",
        "  beingAdded=int(input(\"Type the \"+str(number+1)+\" that you wish to add \"))\n",
        "  sum=sum+beingAdded\n",
        "print('Your Sum is',sum)"
      ],
      "metadata": {
        "colab": {
          "base_uri": "https://localhost:8080/"
        },
        "id": "LcBvpy9NwDF7",
        "outputId": "b593321f-5491-435f-9133-b91fdb34d182"
      },
      "execution_count": 22,
      "outputs": [
        {
          "output_type": "stream",
          "name": "stdout",
          "text": [
            "Type the amount of numbers that wish to add 3\n",
            "Type the 1 that you wish to add 3\n",
            "Type the 2 that you wish to add 3\n",
            "Type the 3 that you wish to add 3\n",
            "Your Sum is 9\n"
          ]
        }
      ]
    },
    {
      "cell_type": "code",
      "source": [
        "names=['Frank','Rodrigo','Nick']\n",
        "print(len(names))\n",
        "print(names)\n",
        "for count in range(3):\n",
        "  print(names[count])"
      ],
      "metadata": {
        "colab": {
          "base_uri": "https://localhost:8080/"
        },
        "id": "XA5nFoti1sDy",
        "outputId": "56ba08ae-0223-4ff6-c159-0de40a4888bb"
      },
      "execution_count": 34,
      "outputs": [
        {
          "output_type": "stream",
          "name": "stdout",
          "text": [
            "3\n",
            "['Frank', 'Rodrigo', 'Nick']\n",
            "Frank\n",
            "Rodrigo\n",
            "Nick\n"
          ]
        }
      ]
    },
    {
      "cell_type": "code",
      "source": [
        "names=['Frank','Rodrigo','Nick']\n",
        "print(len(names))\n",
        "print(names)\n",
        "for name in names:\n",
        "  print(name)"
      ],
      "metadata": {
        "colab": {
          "base_uri": "https://localhost:8080/"
        },
        "id": "BlXnfvvN1rsJ",
        "outputId": "2e0688ed-d5d9-4afc-cda1-2fba8e5191d9"
      },
      "execution_count": 35,
      "outputs": [
        {
          "output_type": "stream",
          "name": "stdout",
          "text": [
            "3\n",
            "['Frank', 'Rodrigo', 'Nick']\n",
            "Frank\n",
            "Rodrigo\n",
            "Nick\n"
          ]
        }
      ]
    },
    {
      "cell_type": "code",
      "source": [
        "form=['Please type your name','Please Type Your Password','Please Type ypur address']\n",
        "anwsers=[]\n",
        "for question in form:\n",
        "  print(question)\n",
        "  answer=input()\n",
        "  anwsers.append(answer)\n",
        "print(anwsers)"
      ],
      "metadata": {
        "colab": {
          "base_uri": "https://localhost:8080/"
        },
        "id": "L2M9EFb64Y9Q",
        "outputId": "fdd24878-25bd-42c6-80f7-76598b6fd65c"
      },
      "execution_count": 36,
      "outputs": [
        {
          "output_type": "stream",
          "name": "stdout",
          "text": [
            "Please type your name\n",
            "Will\n",
            "Please Type Your Password\n",
            "Password\n",
            "Please Type ypur address\n",
            "Get Fucked\n",
            "['Will', 'Password', 'Get Fucked']\n"
          ]
        }
      ]
    },
    {
      "cell_type": "code",
      "source": [],
      "metadata": {
        "id": "BQo6POAg9HI8"
      },
      "execution_count": null,
      "outputs": []
    },
    {
      "cell_type": "code",
      "source": [
        "#shopping cart where we can know the amount of x stuff that the user wants, i want 3 apples\n",
        "shoppingcart=[]\n",
        "wantsToShop=True\n",
        "while (wantsToShop==True):\n",
        "  desires=input('what would you like? ')\n",
        "  amount=int(input('How many would you like? '))\n",
        "  for count in range(amount):\n",
        "    shoppingcart.append(desires)\n",
        "    askUser=input('would you like to keep shopping? Y/N ')\n",
        "    if(askUser=='Y'):\n",
        "      print('Okay continue on')\n",
        "    elif(askUser=='N'):\n",
        "     wantsToShop=False\n",
        "     print('Here is your List')\n",
        "    else:\n",
        "      print('Please type Y/N')\n",
        "print(shoppingcart)"
      ],
      "metadata": {
        "id": "4MOsOWtw6ygy"
      },
      "execution_count": null,
      "outputs": []
    }
  ]
}