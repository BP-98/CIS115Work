{
  "nbformat": 4,
  "nbformat_minor": 0,
  "metadata": {
    "colab": {
      "provenance": []
    },
    "kernelspec": {
      "name": "python3",
      "display_name": "Python 3"
    },
    "language_info": {
      "name": "python"
    }
  },
  "cells": [
    {
      "cell_type": "markdown",
      "source": [
        "* Rock < Paper < Scisors < Rock\n",
        "* Win Condition\n",
        "* Repeat Until a win has been achived"
      ],
      "metadata": {
        "id": "1wYO5kna64DA"
      }
    },
    {
      "cell_type": "code",
      "execution_count": 7,
      "metadata": {
        "colab": {
          "base_uri": "https://localhost:8080/"
        },
        "id": "lwURSKJp5phz",
        "outputId": "9224fa47-9c95-4132-a298-504ec4915d59"
      },
      "outputs": [
        {
          "output_type": "stream",
          "name": "stdout",
          "text": [
            "Select one of the options\n",
            "Press 1 . for rock\n",
            "Press 2 . for paper\n",
            "Press 3 . for scisors\n",
            "Press 4 . for exit\n",
            "3\n",
            "scisors selected\n",
            "Tie!\n",
            "Select one of the options\n",
            "Press 1 . for rock\n",
            "Press 2 . for paper\n",
            "Press 3 . for scisors\n",
            "Press 4 . for exit\n",
            "1\n",
            "rock selected\n",
            "Tie!\n",
            "Select one of the options\n",
            "Press 1 . for rock\n",
            "Press 2 . for paper\n",
            "Press 3 . for scisors\n",
            "Press 4 . for exit\n",
            "2\n",
            "Paper selected\n",
            "The machine chose scisors\n",
            "Machine Won!\n"
          ]
        }
      ],
      "source": [
        "import random #library, or external code to be imported for ease of use\n",
        "gameOption=['rock','paper','scisors','exit']\n",
        "gameOver=False\n",
        "winner=''\n",
        "while (gameOver==False):\n",
        "  print('Select one of the options')\n",
        "  machineInput=random.randint(1, 3)##RNGenerator picks between 1 - 3\n",
        "  for index in range(len(gameOption)): #len(gameOption=3, range=[0,1,2]\n",
        "    print('Press', index+1,'. for '+gameOption[index])\n",
        "  userInput=int(input())\n",
        "  gameOver=True\n",
        "  if(userInput==machineInput):\n",
        "    print(gameOption[userInput-1],'selected')\n",
        "    print('Tie!')\n",
        "    gameOver=False\n",
        "  elif(userInput==4):\n",
        "    gameOver=True\n",
        "  elif(userInput==1):\n",
        "    print('Rock selected')\n",
        "    if(machineInput==3):\n",
        "       winner='User'\n",
        "    else:\n",
        "       winner='Machine'\n",
        "  elif(userInput==2):\n",
        "    print('Paper selected')\n",
        "    if(machineInput==1):\n",
        "       winner='User'\n",
        "    else:\n",
        "       winner='Machine'\n",
        "  elif(userInput==3):\n",
        "    print('Scisors selected')\n",
        "    if(machineInput==2):\n",
        "       winner='User'\n",
        "    else:\n",
        "       winner='Machine'\n",
        "  else:\n",
        "    print('Please select a valid option')\n",
        "    gameOver=False\n",
        "if(userInput>0 and userInput<=3):\n",
        "  print('The machine chose',gameOption[machineInput-1])\n",
        "  if(winner!=''):\n",
        "    print(winner, 'Won!')"
      ]
    },
    {
      "cell_type": "code",
      "source": [
        "import random #library, or external code to be imported for ease of use\n",
        "gameOption=['rock','paper','scisors','exit']\n",
        "gameOver=False\n",
        "winner=''\n",
        "while (gameOver==False):\n",
        "  print('Select one of the options')\n",
        "  machineInput=random.randint(1, 3)##RNGenerator picks between 1 - 3\n",
        "  for index in range(len(gameOption)): #len(gameOption=3, range=[0,1,2]\n",
        "    print('Press', index+1,'. for '+gameOption[index])\n",
        "  userInput=int(input())\n",
        "  if(userInput==machineInput):\n",
        "    print(gameOption[userInput-1],'selected')\n",
        "    print('Tie!')\n",
        "    gameOver=False\n",
        "  elif(userInput==4):\n",
        "    gameOver=True\n",
        "  elif(userInput==1):\n",
        "    print('Rock selected')\n",
        "  elif(userInput==2):\n",
        "    print('Paper selected')\n",
        "  elif(userInput==3):\n",
        "    print('Scissors selected')\n",
        "  else:\n",
        "    print('Please select a valid option')\n",
        "    gameOver=False\n",
        "if(userInput>0 and userInput<=3):\n",
        "  print('The machine chose',gameOption[machineInput-1])\n",
        "  if(machineInput==userInput-1 and machineInput!=3):\n",
        "    winner='User'\n",
        "    gameOver=True\n",
        "  elif(machineInput==userInput+2):\n",
        "    winner='User'\n",
        "    gameOver=True\n",
        "  elif(userInput==machineInput+2):\n",
        "    winner='Machine'\n",
        "    gameOver=True\n",
        "  elif(machineInput!=userInput and userInput!=3):\n",
        "    winner='Machine'\n",
        "    gameOver=True\n",
        "  elif(userInput==3 and machineInput!=userInput):\n",
        "    winner='User'\n",
        "    gameOver=True\n",
        "  if(winner!=''):\n",
        "    print(winner, 'Won!')"
      ],
      "metadata": {
        "colab": {
          "base_uri": "https://localhost:8080/",
          "height": 108
        },
        "id": "-uIIQwCLJ9Ls",
        "outputId": "99986cd9-192f-480f-9137-315d482fe64f"
      },
      "execution_count": 8,
      "outputs": [
        {
          "output_type": "error",
          "ename": "IndentationError",
          "evalue": "expected an indented block after 'elif' statement on line 16 (<ipython-input-8-a6c26f39d11b>, line 18)",
          "traceback": [
            "\u001b[0;36m  File \u001b[0;32m\"<ipython-input-8-a6c26f39d11b>\"\u001b[0;36m, line \u001b[0;32m18\u001b[0m\n\u001b[0;31m    elif(userInput==1):\u001b[0m\n\u001b[0m    ^\u001b[0m\n\u001b[0;31mIndentationError\u001b[0m\u001b[0;31m:\u001b[0m expected an indented block after 'elif' statement on line 16\n"
          ]
        }
      ]
    }
  ]
}