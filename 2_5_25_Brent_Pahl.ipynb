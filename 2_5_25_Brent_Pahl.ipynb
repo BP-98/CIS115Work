{
  "nbformat": 4,
  "nbformat_minor": 0,
  "metadata": {
    "colab": {
      "provenance": []
    },
    "kernelspec": {
      "name": "python3",
      "display_name": "Python 3"
    },
    "language_info": {
      "name": "python"
    }
  },
  "cells": [
    {
      "cell_type": "code",
      "source": [
        "#Hello World will print then the inputs will ask user\n",
        "print('Hello World')\n",
        "#Variables\n",
        "name=input(\"What's your name? \")\n",
        "age=input(\"What's your age? \")\n",
        "#Strings within Inputs run parralel and show before the input box\n",
        "#Blanks are Null values, int Null is 0, String is ''\n",
        "print('My name is '+name+' and I am',age,'Years Old')\n",
        "#Commas splice it into diffrent arguments while Plus's add a varible to\n",
        "#the string"
      ],
      "metadata": {
        "colab": {
          "base_uri": "https://localhost:8080/"
        },
        "id": "sWvajt6S0KEo",
        "outputId": "f13701f6-4bc4-4059-97b5-3c7fd4557abf"
      },
      "execution_count": 23,
      "outputs": [
        {
          "output_type": "stream",
          "name": "stdout",
          "text": [
            "Hello World\n",
            "What's your name? Brent\n",
            "What's your age? XVII\n",
            "My name is Brent and I am XVII Years Old\n"
          ]
        }
      ]
    },
    {
      "cell_type": "code",
      "source": [
        "#Calculator\n",
        "#Variables\n",
        "numberA=input('Number A Value: ')\n",
        "numberB=input('Number B Value: ')\n",
        "print(int(numberA)+(numberB))\n",
        "#Int Transforms varibles into integers, they only accept intergers not\n",
        "#decimals nor negatives"
      ],
      "metadata": {
        "id": "CwQE2EGi9wJz"
      },
      "execution_count": null,
      "outputs": []
    },
    {
      "cell_type": "code",
      "source": [
        "drinks=['CocaCola','Pepsi','Sprite']\n",
        "print(drinks)\n",
        "#array made with [], allows only one type of data such as, strings, ints..\n",
        "#prints the array\n",
        "newDrink=input('please insert a new Drink to replace ' +drinks[1]+' ')\n",
        "#Brackets with a number in it is a index and only shows a specific entry\n",
        "#asks the user to replace pepsi with a diffrent string\n",
        "drinks[1]=newDrink\n",
        "#states that array slot 1 is the new varibel which is the input\n",
        "drinks\n",
        "#prints the new array"
      ],
      "metadata": {
        "colab": {
          "base_uri": "https://localhost:8080/"
        },
        "id": "bRhdVxMpAGP2",
        "outputId": "b507baad-65a6-42ec-a5df-e7b9f2666e66"
      },
      "execution_count": 26,
      "outputs": [
        {
          "name": "stdout",
          "output_type": "stream",
          "text": [
            "['CocaCola', 'Pepsi', 'Sprite']\n",
            "please insert a new Drink to replace Pepsi Dr. Pepper\n"
          ]
        },
        {
          "output_type": "execute_result",
          "data": {
            "text/plain": [
              "['CocaCola', 'Dr. Pepper', 'Sprite']"
            ]
          },
          "metadata": {},
          "execution_count": 26
        }
      ]
    }
  ]
}