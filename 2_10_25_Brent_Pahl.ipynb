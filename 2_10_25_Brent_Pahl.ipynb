{
  "nbformat": 4,
  "nbformat_minor": 0,
  "metadata": {
    "colab": {
      "provenance": []
    },
    "kernelspec": {
      "name": "python3",
      "display_name": "Python 3"
    },
    "language_info": {
      "name": "python"
    }
  },
  "cells": [
    {
      "cell_type": "code",
      "execution_count": 1,
      "metadata": {
        "colab": {
          "base_uri": "https://localhost:8080/"
        },
        "id": "NF09v_BWcfuG",
        "outputId": "15cd8781-681b-45c5-e24f-2176456c7377"
      },
      "outputs": [
        {
          "output_type": "stream",
          "name": "stdout",
          "text": [
            "type of True and False <class 'bool'>\n"
          ]
        }
      ],
      "source": [
        "##Booleans\n",
        "print(\"type of True and False\", type(True))"
      ]
    },
    {
      "cell_type": "code",
      "source": [
        "print(1>3)\n",
        "##comparsion statements work as comparson or greator or equals equlas"
      ],
      "metadata": {
        "colab": {
          "base_uri": "https://localhost:8080/"
        },
        "id": "jNcPCsg_fUzw",
        "outputId": "5a20401f-be7f-4c58-d9ba-50daa516f11d"
      },
      "execution_count": 3,
      "outputs": [
        {
          "output_type": "stream",
          "name": "stdout",
          "text": [
            "False\n"
          ]
        }
      ]
    },
    {
      "cell_type": "code",
      "source": [
        "bigger=int(input(\"type a big number \"))\n",
        "smaller=int(input(\"type a smaller number \"))\n",
        "sum=bigger+smaller\n",
        "print(sum)\n",
        "if(bigger<=smaller and sum==12):\n",
        "##equations can be used for if statements and ties to others with one & or and\n",
        "  print(\"please read the instructions your number is wrong and equal to 12\")\n",
        "elif(bigger<=smaller):\n",
        "  print(\"please read the instructions your number order is incorrect\")\n",
        "#elif stands for else if and is only used in python\n",
        "else:\n",
        "  print(\"Congratulations you know how to read.\")\n",
        "##hierachy matters and if and else statements need to be on the same level"
      ],
      "metadata": {
        "colab": {
          "base_uri": "https://localhost:8080/"
        },
        "id": "18PO2pJ2lwmk",
        "outputId": "77f81fb4-3cbc-4fc0-acf1-3a672c916e15"
      },
      "execution_count": 11,
      "outputs": [
        {
          "output_type": "stream",
          "name": "stdout",
          "text": [
            "type a big number 8\n",
            "type a smaller number 4\n",
            "Congratulations you know how to read.\n"
          ]
        }
      ]
    },
    {
      "cell_type": "markdown",
      "source": [
        "W have a vending machine and the user can pick between multiple options from one to five each one coresponds to a drink"
      ],
      "metadata": {
        "id": "nu1SG4hPpYhd"
      }
    },
    {
      "cell_type": "code",
      "source": [
        "drinkSelected=False\n",
        "while(drinkSelected=False):\n",
        "  option=int(input(\"Please select a number between one to five for drink selection\"))\n",
        "  if(option==1):\n",
        "   print(\"cocacola\")\n",
        "   drinkSelcted==True\n",
        "  elif(option==2):\n",
        "    print(\"pepsi\")\n",
        "  elif(option==3):\n",
        "    print(\"sprite\")\n",
        "  elif(option==4):\n",
        "    print(\"fanta\")\n",
        "  elif(option==5):\n",
        "    print(\"dr. pepper\")\n",
        "  else:\n",
        "    print(\"please select a correct option\")\n",
        ""
      ],
      "metadata": {
        "colab": {
          "base_uri": "https://localhost:8080/",
          "height": 108
        },
        "id": "8kTla89opvke",
        "outputId": "7d5f5f74-c2e4-4a9e-eae5-65cf6d706b6f"
      },
      "execution_count": 26,
      "outputs": [
        {
          "output_type": "error",
          "ename": "IndentationError",
          "evalue": "expected an indented block after 'while' statement on line 1 (<ipython-input-26-9e048819da9f>, line 2)",
          "traceback": [
            "\u001b[0;36m  File \u001b[0;32m\"<ipython-input-26-9e048819da9f>\"\u001b[0;36m, line \u001b[0;32m2\u001b[0m\n\u001b[0;31m    option=int(input(\"Please select a number between one to five for drink selection\"))\u001b[0m\n\u001b[0m    ^\u001b[0m\n\u001b[0;31mIndentationError\u001b[0m\u001b[0;31m:\u001b[0m expected an indented block after 'while' statement on line 1\n"
          ]
        }
      ]
    },
    {
      "cell_type": "markdown",
      "source": [
        "Cellphone, Villains on 0, Heros on 1"
      ],
      "metadata": {
        "id": "I-opehqfre9D"
      }
    },
    {
      "cell_type": "code",
      "source": [
        "selection=int(input(\"please make a selection \"))\n",
        "if(selection==1):\n",
        "  selection=int(input(\"Please select a hero from the list, SuperMan on 0 Spider-Man on 1, Goku on 2, Hulk on 3 \"))\n",
        "  if(selection==0):\n",
        "    print(\"SuperMan is on the way\")\n",
        "  elif(selection==1):\n",
        "    print(\"Spider-Man is on the way\")\n",
        "  elif(selection==2):\n",
        "    print(\"Goku is on the way\")\n",
        "  elif(selection==3):\n",
        "    print(\"Hulk is on the way\")\n",
        "  else:\n",
        "    print(\"please select a valid option\")\n",
        "elif(selection==0):\n",
        "  selection=int(input(\"please slect a villan from the list, Poision Ivy on 0, The Joker on 1, Sandman on 2, Doc Oc on 3 \"))\n",
        "  if(selection==0):\n",
        "    print(\"Poision Ivy is on the way\")\n",
        "  elif(selection==1):\n",
        "    print(\"The Jpoker is on the way\")\n",
        "  elif(selection==2):\n",
        "    print(\"Sandman is on the way\")\n",
        "  elif(selection==3):\n",
        "    print(\"Doc Oc is on the way\")\n",
        "  else:\n",
        "    print(\"please select a valid option\")\n",
        "else:\n",
        "  print(\"please make a valid selection\")"
      ],
      "metadata": {
        "colab": {
          "base_uri": "https://localhost:8080/"
        },
        "id": "osbl58WirUiD",
        "outputId": "72b30277-0a08-4031-a59a-af71b5a14e9d"
      },
      "execution_count": 33,
      "outputs": [
        {
          "output_type": "stream",
          "name": "stdout",
          "text": [
            "please make a selection 4\n",
            "please make a valid selection\n"
          ]
        }
      ]
    }
  ]
}